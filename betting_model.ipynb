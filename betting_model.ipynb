{
 "cells": [
  {
   "cell_type": "code",
   "execution_count": 1,
   "metadata": {},
   "outputs": [],
   "source": [
    "import pandas as pd\n",
    "import numpy as np\n",
    "from sklearn.preprocessing import StandardScaler\n",
    "from sklearn.model_selection import train_test_split\n",
    "from sklearn.linear_model import LogisticRegression\n",
    "import matplotlib.pyplot as plt\n",
    "import seaborn as sns\n",
    "import tensorflow as tf"
   ]
  },
  {
   "cell_type": "code",
   "execution_count": 3,
   "metadata": {},
   "outputs": [
    {
     "name": "stderr",
     "output_type": "stream",
     "text": [
      "/var/folders/wg/0kpf4bq56tn3zqg0vq6863980000gn/T/ipykernel_58688/3169756296.py:2: DtypeWarning: Columns (16,17,18,19,20,21,22,96) have mixed types. Specify dtype option on import or set low_memory=False.\n",
      "  horses1 = pd.read_csv('./data/horses1.csv')\n"
     ]
    }
   ],
   "source": [
    "horses2 = pd.read_csv('./data/horses2.csv')\n",
    "horses1 = pd.read_csv('./data/horses1.csv')\n",
    "horses0 = pd.read_csv('./data/horses.csv')"
   ]
  },
  {
   "cell_type": "code",
   "execution_count": 4,
   "metadata": {},
   "outputs": [],
   "source": [
    "def horses_preprocess(dfs):\n",
    "    dfs_processed = []\n",
    "    for df in dfs:\n",
    "        df = df.copy()\n",
    "        df = df[['Winner','StartingOdds','RecentWinPercent','Class','laststart']]\n",
    "        median = df.median()\n",
    "        df.fillna(median, inplace=True)\n",
    "        dfs_processed.append(df)\n",
    "    return pd.concat(dfs_processed, axis=0)\n",
    "\n",
    "horses = horses_preprocess([horses1, horses2, horses0])\n",
    "horses.to_csv('./data/clean_data.csv', index=False)"
   ]
  },
  {
   "cell_type": "code",
   "execution_count": 5,
   "metadata": {},
   "outputs": [
    {
     "data": {
      "image/png": "[encoded data removed]",
      "text/plain": [
       "<Figure size 750x750 with 2 Axes>"
      ]
     },
     "metadata": {
      "needs_background": "light"
     },
     "output_type": "display_data"
    }
   ],
   "source": [
    "corr = horses.corr().sort_values(by='Winner', ascending=False)\n",
    "winner_corr = corr[['Winner']]\n",
    "fig, ax = plt.subplots(figsize=(5,5), dpi=150)\n",
    "annot_kws = {\"ha\": 'center',\"va\": 'top', \"size\":5, \"color\": \"black\"}\n",
    "ax = sns.heatmap(winner_corr, annot=True, vmax=winner_corr.max(), vmin=winner_corr.min(), square=False, cbar=True, cmap='RdBu_r', linewidths=0.5, linecolor='black', annot_kws=annot_kws)\n",
    "ax.set_title('Winner Correlation')\n",
    "plt.show()"
   ]
  },
  {
   "cell_type": "code",
   "execution_count": 6,
   "metadata": {},
   "outputs": [
    {
     "name": "stdout",
     "output_type": "stream",
     "text": [
      "<class 'pandas.core.frame.DataFrame'>\n",
      "Int64Index: 1220095 entries, 0 to 640514\n",
      "Data columns (total 5 columns):\n",
      " #   Column            Non-Null Count    Dtype  \n",
      "---  ------            --------------    -----  \n",
      " 0   Winner            1220095 non-null  float64\n",
      " 1   StartingOdds      1220095 non-null  float64\n",
      " 2   RecentWinPercent  1220095 non-null  float64\n",
      " 3   Class             1220095 non-null  float64\n",
      " 4   laststart         1220095 non-null  float64\n",
      "dtypes: float64(5)\n",
      "memory usage: 55.9 MB\n"
     ]
    }
   ],
   "source": [
    "horses.info(verbose=True, show_counts=True)"
   ]
  },
  {
   "cell_type": "code",
   "execution_count": 7,
   "metadata": {},
   "outputs": [],
   "source": [
    "x = horses.drop(['Winner'], axis=1)\n",
    "y = horses['Winner']\n",
    "x = pd.DataFrame(StandardScaler().fit_transform(x), columns=x.columns)\n",
    "x_train, x_val, y_train, y_val = train_test_split(x, y, test_size=0.2, random_state=53)\n",
    "x_train, x_test, y_train, y_test = train_test_split(x, y, test_size=0.1, random_state=42)"
   ]
  },
  {
   "cell_type": "code",
   "execution_count": 8,
   "metadata": {},
   "outputs": [
    {
     "name": "stdout",
     "output_type": "stream",
     "text": [
      "Logistic Regression: 91%\n"
     ]
    }
   ],
   "source": [
    "lr = LogisticRegression(solver='newton-cg').fit(x_train, y_train)\n",
    "print(f'Logistic Regression: {round(lr.score(x_test, y_test)*100)}%')"
   ]
  },
  {
   "cell_type": "code",
   "execution_count": 9,
   "metadata": {},
   "outputs": [
    {
     "name": "stdout",
     "output_type": "stream",
     "text": [
      "Metal device set to: Apple M1 Pro\n",
      "\n",
      "systemMemory: 16.00 GB\n",
      "maxCacheSize: 5.33 GB\n",
      "\n",
      "Epoch 1/10\n"
     ]
    },
    {
     "name": "stderr",
     "output_type": "stream",
     "text": [
      "2022-06-26 08:59:22.914856: I tensorflow/core/common_runtime/pluggable_device/pluggable_device_factory.cc:305] Could not identify NUMA node of platform GPU ID 0, defaulting to 0. Your kernel may not have been built with NUMA support.\n",
      "2022-06-26 08:59:22.914981: I tensorflow/core/common_runtime/pluggable_device/pluggable_device_factory.cc:271] Created TensorFlow device (/job:localhost/replica:0/task:0/device:GPU:0 with 0 MB memory) -> physical PluggableDevice (device: 0, name: METAL, pci bus id: <undefined>)\n",
      "2022-06-26 08:59:23.020271: W tensorflow/core/platform/profile_utils/cpu_utils.cc:128] Failed to get CPU frequency: 0 Hz\n",
      "2022-06-26 08:59:23.298157: I tensorflow/core/grappler/optimizers/custom_graph_optimizer_registry.cc:113] Plugin optimizer for device_type GPU is enabled.\n"
     ]
    },
    {
     "name": "stdout",
     "output_type": "stream",
     "text": [
      "34316/34316 [==============================] - ETA: 0s - loss: 0.2200 - accuracy: 0.9153"
     ]
    },
    {
     "name": "stderr",
     "output_type": "stream",
     "text": [
      "2022-06-26 09:02:41.048507: I tensorflow/core/grappler/optimizers/custom_graph_optimizer_registry.cc:113] Plugin optimizer for device_type GPU is enabled.\n"
     ]
    },
    {
     "name": "stdout",
     "output_type": "stream",
     "text": [
      "34316/34316 [==============================] - 220s 6ms/step - loss: 0.2200 - accuracy: 0.9153 - val_loss: 0.2036 - val_accuracy: 0.9246\n",
      "Epoch 2/10\n",
      "34316/34316 [==============================] - 221s 6ms/step - loss: 0.2026 - accuracy: 0.9229 - val_loss: 0.2006 - val_accuracy: 0.9245\n",
      "Epoch 3/10\n",
      "34316/34316 [==============================] - 221s 6ms/step - loss: 0.2008 - accuracy: 0.9240 - val_loss: 0.1985 - val_accuracy: 0.9266\n",
      "Epoch 4/10\n",
      "34316/34316 [==============================] - 220s 6ms/step - loss: 0.1996 - accuracy: 0.9252 - val_loss: 0.2020 - val_accuracy: 0.9246\n",
      "Epoch 5/10\n",
      "34316/34316 [==============================] - 220s 6ms/step - loss: 0.1988 - accuracy: 0.9258 - val_loss: 0.1974 - val_accuracy: 0.9269\n",
      "Epoch 6/10\n",
      "34316/34316 [==============================] - 221s 6ms/step - loss: 0.1984 - accuracy: 0.9258 - val_loss: 0.1981 - val_accuracy: 0.9256\n",
      "Epoch 7/10\n",
      "34316/34316 [==============================] - 220s 6ms/step - loss: 0.1981 - accuracy: 0.9260 - val_loss: 0.1973 - val_accuracy: 0.9264\n",
      "Epoch 8/10\n",
      "34316/34316 [==============================] - 220s 6ms/step - loss: 0.1979 - accuracy: 0.9260 - val_loss: 0.1973 - val_accuracy: 0.9263\n",
      "Epoch 9/10\n",
      "34316/34316 [==============================] - 221s 6ms/step - loss: 0.1979 - accuracy: 0.9258 - val_loss: 0.1984 - val_accuracy: 0.9261\n",
      "Epoch 10/10\n",
      "34316/34316 [==============================] - 221s 6ms/step - loss: 0.1978 - accuracy: 0.9259 - val_loss: 0.1969 - val_accuracy: 0.9268\n"
     ]
    },
    {
     "data": {
      "text/plain": [
       "<keras.callbacks.History at 0x160ac2680>"
      ]
     },
     "execution_count": 9,
     "metadata": {},
     "output_type": "execute_result"
    }
   ],
   "source": [
    "input = tf.keras.Input(shape=(x.shape[1],))\n",
    "x = tf.keras.layers.Dense(8, activation='relu')(input)\n",
    "x = tf.keras.layers.Dense(4, activation='relu')(x)\n",
    "output = tf.keras.layers.Dense(1, activation='sigmoid')(x)\n",
    "nn_model = tf.keras.Model(input, output)\n",
    "nn_model.compile(optimizer='adam', loss='binary_crossentropy', metrics=['accuracy'])\n",
    "nn_model.fit(x_train, y_train, epochs=10, validation_data=(x_val, y_val), verbose=1)"
   ]
  },
  {
   "cell_type": "code",
   "execution_count": 10,
   "metadata": {},
   "outputs": [
    {
     "name": "stdout",
     "output_type": "stream",
     "text": [
      "3813/3813 [==============================] - 15s 4ms/step - loss: 0.1987 - accuracy: 0.9255\n"
     ]
    },
    {
     "data": {
      "text/plain": [
       "[0.19866728782653809, 0.9255471229553223]"
      ]
     },
     "execution_count": 10,
     "metadata": {},
     "output_type": "execute_result"
    }
   ],
   "source": [
    "nn_model.evaluate(x_test, y_test)"
   ]
  },
  {
   "cell_type": "code",
   "execution_count": 11,
   "metadata": {},
   "outputs": [],
   "source": [
    "nn_model.save_weights('./checkpoints/my_checkpoint')"
   ]
  },
  {
   "cell_type": "code",
   "execution_count": null,
   "metadata": {},
   "outputs": [],
   "source": []
  }
 ],
 "metadata": {
  "kernelspec": {
   "display_name": "Python 3.10.5 ('ai')",
   "language": "python",
   "name": "python3"
  },
  "language_info": {
   "codemirror_mode": {
    "name": "ipython",
    "version": 3
   },
   "file_extension": ".py",
   "mimetype": "text/x-python",
   "name": "python",
   "nbconvert_exporter": "python",
   "pygments_lexer": "ipython3",
   "version": "3.10.5"
  },
  "orig_nbformat": 4,
  "vscode": {
   "interpreter": {
    "hash": "dff652694570d79d7e10fc5f7d3bc899a3339699a23e21d1e9202b31254aa73b"
   }
  }
 },
 "nbformat": 4,
 "nbformat_minor": 2
}
