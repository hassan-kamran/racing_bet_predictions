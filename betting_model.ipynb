{
 "cells": [
  {
   "cell_type": "code",
   "execution_count": 1,
   "metadata": {},
   "outputs": [],
   "source": [
    "import pandas as pd\n",
    "import numpy as np\n",
    "from sklearn.preprocessing import StandardScaler\n",
    "from sklearn.model_selection import train_test_split\n",
    "from sklearn.linear_model import LogisticRegression\n",
    "import matplotlib.pyplot as plt\n",
    "import seaborn as sns\n",
    "import tensorflow as tf"
   ]
  },
  {
   "cell_type": "code",
   "execution_count": 2,
   "metadata": {},
   "outputs": [],
   "source": [
    "def drop_sparse(df, threshold):\n",
    "    for col in df.columns:\n",
    "        if df[col].count() < threshold:\n",
    "            df.drop(col, axis=1, inplace=True)\n",
    "    return None\n",
    "\n",
    "def one_hot_encoding(df, columns):\n",
    "    df = df.copy()\n",
    "    for col, pref in columns.items():\n",
    "        dummy = pd.get_dummies(df[col], prefix=pref)\n",
    "        dummy.astype(bool)\n",
    "        df = pd.concat([df, dummy], axis=1)\n",
    "        df = df.drop(col, axis=1)\n",
    "    return df"
   ]
  },
  {
   "cell_type": "code",
   "execution_count": 3,
   "metadata": {},
   "outputs": [],
   "source": [
    "horses = pd.read_csv('./data/horses2.csv')"
   ]
  },
  {
   "cell_type": "code",
   "execution_count": 4,
   "metadata": {},
   "outputs": [],
   "source": [
    "horses = horses.drop(['RaceNumber','RaceName','RaceTitle','Place','HorseName','Trainer', 'Driver', 'Venue', 'DayCalender', 'HorseID',  'Placer','Colour', 'Sire', 'NumberTrainer', 'tracknamelaststart', 'TrainerLastStart','DriverLastStart','StewardsFull', 'racetime', 'Timelastrace',  'Tracklaststart','StewardsComments', 'Prizemoney','Firststarter','DistanceLastStart','Dayssincelast','Handicap', 'RaceDistance','RowLastStart','SameDistance','Standlaststart', 'Triallaststart', 'broken', 'countofdeath','downindistance', 'eveningrace', 'eveningracelaststart', 'morningrace','morningracelaststart', 'totalprize', 'upindistance', 'LeaderStrikeRate', 'RecentPlacings', 'Leading',  'prizemoneydown', 'Gatespeedstrikerate','Prizemoneylastrace', 'trainerchange', 'prizemoneysame', 'Age', 'Deathseat', 'RecentSeconds', 'BestWinningMile', 'driverchange', 'RecentThirds', 'LifetimeWins', 'TimeLead', 'RecentRuns', 'TimeBroken', 'prizemoneyup', 'trials', 'LifetimeSeconds', 'TimeGateSpeed', 'LifetimePlacings' ,'countld1', 'countld2','countld3','countld4','countfront1','countfront2','countfront3','countfront4', 'MarginWinner', 'Margin','start2','start3','start4','sametrack', 'LifetimeThirds', 'startingprice1', 'LifetimeRuns', 'RecentWins', 'PrizemoneyLastStart', 'avestake', 'aveplace', 'LifetimeWinPercent', 'LifetimePlacePercent', 'frontrow','secondrow'], axis=1)\n"
   ]
  },
  {
   "cell_type": "code",
   "execution_count": 5,
   "metadata": {},
   "outputs": [],
   "source": [
    "drop_sparse(horses, 10)\n",
    "horses = one_hot_encoding(horses, {'Row':'Row','Sex': 'Sex'})\n",
    "horses = horses[['Winner','StartingOdds','RecentPlacePercent','RecentWinPercent','Class','Row_1','laststart','Sex_COLT','Sex_HORSE']]"
   ]
  },
  {
   "cell_type": "code",
   "execution_count": 6,
   "metadata": {},
   "outputs": [],
   "source": [
    "median = horses.median()\n",
    "horses.fillna(median, inplace=True)\n",
    "horses.to_csv('./data/clean_data.csv', index=False)"
   ]
  },
  {
   "cell_type": "code",
   "execution_count": 7,
   "metadata": {},
   "outputs": [
    {
     "data": {
      "image/png": "[encoded data removed]",
      "text/plain": [
       "<Figure size 500x500 with 2 Axes>"
      ]
     },
     "metadata": {
      "needs_background": "light"
     },
     "output_type": "display_data"
    }
   ],
   "source": [
    "corr = horses.corr().sort_values(by='Winner', ascending=False)\n",
    "winner_corr = corr[['Winner']]\n",
    "fig, ax = plt.subplots(figsize=(5,5), dpi=100)\n",
    "annot_kws = {\"ha\": 'center',\"va\": 'top', \"size\":5, \"color\": \"black\"}\n",
    "ax = sns.heatmap(winner_corr, annot=True, vmax=winner_corr.max(), vmin=winner_corr.min(), square=False, cbar=True, cmap='RdBu_r', linewidths=0.5, linecolor='black', annot_kws=annot_kws)\n",
    "ax.set_title('Winner Correlation')\n",
    "plt.show()"
   ]
  },
  {
   "cell_type": "code",
   "execution_count": 8,
   "metadata": {},
   "outputs": [
    {
     "name": "stdout",
     "output_type": "stream",
     "text": [
      "<class 'pandas.core.frame.DataFrame'>\n",
      "RangeIndex: 144917 entries, 0 to 144916\n",
      "Data columns (total 9 columns):\n",
      " #   Column              Non-Null Count   Dtype  \n",
      "---  ------              --------------   -----  \n",
      " 0   Winner              144917 non-null  int64  \n",
      " 1   StartingOdds        144917 non-null  float64\n",
      " 2   RecentPlacePercent  144917 non-null  float64\n",
      " 3   RecentWinPercent    144917 non-null  float64\n",
      " 4   Class               144917 non-null  int64  \n",
      " 5   Row_1               144917 non-null  uint8  \n",
      " 6   laststart           144917 non-null  int64  \n",
      " 7   Sex_COLT            144917 non-null  uint8  \n",
      " 8   Sex_HORSE           144917 non-null  uint8  \n",
      "dtypes: float64(3), int64(3), uint8(3)\n",
      "memory usage: 7.0 MB\n"
     ]
    }
   ],
   "source": [
    "horses.info(verbose=True, show_counts=True)"
   ]
  },
  {
   "cell_type": "code",
   "execution_count": 9,
   "metadata": {},
   "outputs": [
    {
     "data": {
      "text/html": [
       "<div>\n",
       "<style scoped>\n",
       "    .dataframe tbody tr th:only-of-type {\n",
       "        vertical-align: middle;\n",
       "    }\n",
       "\n",
       "    .dataframe tbody tr th {\n",
       "        vertical-align: top;\n",
       "    }\n",
       "\n",
       "    .dataframe thead th {\n",
       "        text-align: right;\n",
       "    }\n",
       "</style>\n",
       "<table border=\"1\" class=\"dataframe\">\n",
       "  <thead>\n",
       "    <tr style=\"text-align: right;\">\n",
       "      <th></th>\n",
       "      <th>Winner</th>\n",
       "      <th>StartingOdds</th>\n",
       "      <th>RecentPlacePercent</th>\n",
       "      <th>RecentWinPercent</th>\n",
       "      <th>Class</th>\n",
       "      <th>Row_1</th>\n",
       "      <th>laststart</th>\n",
       "      <th>Sex_COLT</th>\n",
       "      <th>Sex_HORSE</th>\n",
       "    </tr>\n",
       "  </thead>\n",
       "  <tbody>\n",
       "    <tr>\n",
       "      <th>0</th>\n",
       "      <td>0</td>\n",
       "      <td>91.0</td>\n",
       "      <td>0.192308</td>\n",
       "      <td>0.038462</td>\n",
       "      <td>50</td>\n",
       "      <td>0</td>\n",
       "      <td>8</td>\n",
       "      <td>0</td>\n",
       "      <td>0</td>\n",
       "    </tr>\n",
       "    <tr>\n",
       "      <th>1</th>\n",
       "      <td>0</td>\n",
       "      <td>16.0</td>\n",
       "      <td>0.500000</td>\n",
       "      <td>0.166667</td>\n",
       "      <td>75</td>\n",
       "      <td>0</td>\n",
       "      <td>8</td>\n",
       "      <td>0</td>\n",
       "      <td>0</td>\n",
       "    </tr>\n",
       "    <tr>\n",
       "      <th>2</th>\n",
       "      <td>0</td>\n",
       "      <td>61.0</td>\n",
       "      <td>0.000000</td>\n",
       "      <td>0.000000</td>\n",
       "      <td>50</td>\n",
       "      <td>1</td>\n",
       "      <td>0</td>\n",
       "      <td>0</td>\n",
       "      <td>0</td>\n",
       "    </tr>\n",
       "    <tr>\n",
       "      <th>3</th>\n",
       "      <td>1</td>\n",
       "      <td>6.5</td>\n",
       "      <td>0.200000</td>\n",
       "      <td>0.100000</td>\n",
       "      <td>87</td>\n",
       "      <td>0</td>\n",
       "      <td>1</td>\n",
       "      <td>0</td>\n",
       "      <td>1</td>\n",
       "    </tr>\n",
       "    <tr>\n",
       "      <th>4</th>\n",
       "      <td>0</td>\n",
       "      <td>9.0</td>\n",
       "      <td>0.000000</td>\n",
       "      <td>0.000000</td>\n",
       "      <td>83</td>\n",
       "      <td>1</td>\n",
       "      <td>2</td>\n",
       "      <td>0</td>\n",
       "      <td>0</td>\n",
       "    </tr>\n",
       "  </tbody>\n",
       "</table>\n",
       "</div>"
      ],
      "text/plain": [
       "   Winner  StartingOdds  RecentPlacePercent  RecentWinPercent  Class  Row_1  \\\n",
       "0       0          91.0            0.192308          0.038462     50      0   \n",
       "1       0          16.0            0.500000          0.166667     75      0   \n",
       "2       0          61.0            0.000000          0.000000     50      1   \n",
       "3       1           6.5            0.200000          0.100000     87      0   \n",
       "4       0           9.0            0.000000          0.000000     83      1   \n",
       "\n",
       "   laststart  Sex_COLT  Sex_HORSE  \n",
       "0          8         0          0  \n",
       "1          8         0          0  \n",
       "2          0         0          0  \n",
       "3          1         0          1  \n",
       "4          2         0          0  "
      ]
     },
     "execution_count": 9,
     "metadata": {},
     "output_type": "execute_result"
    }
   ],
   "source": [
    "horses.head()"
   ]
  },
  {
   "cell_type": "code",
   "execution_count": 10,
   "metadata": {},
   "outputs": [],
   "source": [
    "x = horses.drop(['Winner'], axis=1)\n",
    "y = horses['Winner']\n",
    "x = pd.DataFrame(StandardScaler().fit_transform(x), columns=x.columns)\n",
    "x_train, x_test, y_train, y_test = train_test_split(x, y, test_size=0.2, random_state=42)"
   ]
  },
  {
   "cell_type": "code",
   "execution_count": 11,
   "metadata": {},
   "outputs": [
    {
     "name": "stdout",
     "output_type": "stream",
     "text": [
      "Logistic Regression: 88.8662710460944%\n"
     ]
    }
   ],
   "source": [
    "lr = LogisticRegression(solver='newton-cg').fit(x_train, y_train)\n",
    "print(f'Logistic Regression: {lr.score(x_test, y_test)*100}%')"
   ]
  },
  {
   "cell_type": "code",
   "execution_count": 12,
   "metadata": {},
   "outputs": [
    {
     "name": "stdout",
     "output_type": "stream",
     "text": [
      "Metal device set to: Apple M1 Pro\n",
      "\n",
      "systemMemory: 16.00 GB\n",
      "maxCacheSize: 5.33 GB\n",
      "\n",
      "Epoch 1/10\n"
     ]
    },
    {
     "name": "stderr",
     "output_type": "stream",
     "text": [
      "2022-06-25 23:13:38.109822: I tensorflow/core/common_runtime/pluggable_device/pluggable_device_factory.cc:305] Could not identify NUMA node of platform GPU ID 0, defaulting to 0. Your kernel may not have been built with NUMA support.\n",
      "2022-06-25 23:13:38.109938: I tensorflow/core/common_runtime/pluggable_device/pluggable_device_factory.cc:271] Created TensorFlow device (/job:localhost/replica:0/task:0/device:GPU:0 with 0 MB memory) -> physical PluggableDevice (device: 0, name: METAL, pci bus id: <undefined>)\n",
      "2022-06-25 23:13:38.224760: W tensorflow/core/platform/profile_utils/cpu_utils.cc:128] Failed to get CPU frequency: 0 Hz\n"
     ]
    },
    {
     "name": "stdout",
     "output_type": "stream",
     "text": [
      "   1/3623 [..............................] - ETA: 25:44 - loss: 0.7136 - accuracy: 0.3438"
     ]
    },
    {
     "name": "stderr",
     "output_type": "stream",
     "text": [
      "2022-06-25 23:13:38.500204: I tensorflow/core/grappler/optimizers/custom_graph_optimizer_registry.cc:113] Plugin optimizer for device_type GPU is enabled.\n"
     ]
    },
    {
     "name": "stdout",
     "output_type": "stream",
     "text": [
      "3623/3623 [==============================] - ETA: 0s - loss: 0.2749 - accuracy: 0.8913"
     ]
    },
    {
     "name": "stderr",
     "output_type": "stream",
     "text": [
      "2022-06-25 23:14:02.142912: I tensorflow/core/grappler/optimizers/custom_graph_optimizer_registry.cc:113] Plugin optimizer for device_type GPU is enabled.\n"
     ]
    },
    {
     "name": "stdout",
     "output_type": "stream",
     "text": [
      "3623/3623 [==============================] - 27s 7ms/step - loss: 0.2749 - accuracy: 0.8913 - val_loss: 0.2663 - val_accuracy: 0.8909\n",
      "Epoch 2/10\n",
      "3623/3623 [==============================] - 26s 7ms/step - loss: 0.2656 - accuracy: 0.8931 - val_loss: 0.2644 - val_accuracy: 0.8898\n",
      "Epoch 3/10\n",
      "3623/3623 [==============================] - 26s 7ms/step - loss: 0.2636 - accuracy: 0.8940 - val_loss: 0.2691 - val_accuracy: 0.8867\n",
      "Epoch 4/10\n",
      "3623/3623 [==============================] - 25s 7ms/step - loss: 0.2627 - accuracy: 0.8945 - val_loss: 0.2636 - val_accuracy: 0.8927\n",
      "Epoch 5/10\n",
      "3623/3623 [==============================] - 26s 7ms/step - loss: 0.2621 - accuracy: 0.8947 - val_loss: 0.2636 - val_accuracy: 0.8906\n",
      "Epoch 6/10\n",
      "3623/3623 [==============================] - 25s 7ms/step - loss: 0.2614 - accuracy: 0.8945 - val_loss: 0.2640 - val_accuracy: 0.8917\n",
      "Epoch 7/10\n",
      "3623/3623 [==============================] - 25s 7ms/step - loss: 0.2614 - accuracy: 0.8951 - val_loss: 0.2636 - val_accuracy: 0.8913\n",
      "Epoch 8/10\n",
      "3623/3623 [==============================] - 25s 7ms/step - loss: 0.2608 - accuracy: 0.8953 - val_loss: 0.2622 - val_accuracy: 0.8920\n",
      "Epoch 9/10\n",
      "3623/3623 [==============================] - 25s 7ms/step - loss: 0.2602 - accuracy: 0.8955 - val_loss: 0.2647 - val_accuracy: 0.8895\n",
      "Epoch 10/10\n",
      "3623/3623 [==============================] - 26s 7ms/step - loss: 0.2601 - accuracy: 0.8952 - val_loss: 0.2636 - val_accuracy: 0.8925\n"
     ]
    },
    {
     "data": {
      "text/plain": [
       "<keras.callbacks.History at 0x1758e3b50>"
      ]
     },
     "execution_count": 12,
     "metadata": {},
     "output_type": "execute_result"
    }
   ],
   "source": [
    "input = tf.keras.Input(shape=(x.shape[1],))\n",
    "x = tf.keras.layers.Dense(128, activation='relu')(input)\n",
    "x = tf.keras.layers.Dense(64, activation='relu')(x)\n",
    "x = tf.keras.layers.Dense(32, activation='relu')(x)\n",
    "output = tf.keras.layers.Dense(1, activation='sigmoid')(x)\n",
    "nn_model = tf.keras.Model(input, output)\n",
    "nn_model.compile(optimizer='adam', loss='binary_crossentropy', metrics=['accuracy'])\n",
    "nn_model.fit(x_train, y_train, epochs=10, validation_data=(x_test, y_test))"
   ]
  },
  {
   "cell_type": "code",
   "execution_count": 13,
   "metadata": {},
   "outputs": [],
   "source": [
    "def test_db(names,model):\n",
    "    scores = {}\n",
    "    for name in names:\n",
    "        horses_test = pd.read_csv(f'./data/{name}.csv')\n",
    "        try:\n",
    "            horses_test = one_hot_encoding(horses_test, {'Row':'Row','Sex': 'Sex'})\n",
    "        except:\n",
    "            horses_test = one_hot_encoding(horses_test, {'Row':'Row','sex': 'Sex'})\n",
    "        horses_test = horses_test[['Winner','StartingOdds','RecentPlacePercent','RecentWinPercent','Class','Row_1','Sex_COLT','Sex_HORSE','laststart']]\n",
    "        median_test = horses_test.median()\n",
    "        horses_test.fillna(median_test)\n",
    "        x_eval = horses_test.drop(['Winner'], axis=1)\n",
    "        y_eval = horses_test['Winner']\n",
    "        x_eval = pd.DataFrame(StandardScaler().fit_transform(x_eval), columns=x_eval.columns)\n",
    "        scores.update({name: model.evaluate(x_eval, y_eval,verbose=0)})\n",
    "    return scores"
   ]
  },
  {
   "cell_type": "code",
   "execution_count": 14,
   "metadata": {},
   "outputs": [
    {
     "name": "stderr",
     "output_type": "stream",
     "text": [
      "2022-06-25 23:17:58.155570: I tensorflow/core/grappler/optimizers/custom_graph_optimizer_registry.cc:113] Plugin optimizer for device_type GPU is enabled.\n",
      "/var/folders/wg/0kpf4bq56tn3zqg0vq6863980000gn/T/ipykernel_20186/3407479705.py:4: DtypeWarning: Columns (16,17,18,19,20,21,22,96) have mixed types. Specify dtype option on import or set low_memory=False.\n",
      "  horses_test = pd.read_csv(f'./data/{name}.csv')\n"
     ]
    }
   ],
   "source": [
    "test_scores = test_db(['horses','horses1'], nn_model)"
   ]
  },
  {
   "cell_type": "code",
   "execution_count": 15,
   "metadata": {},
   "outputs": [
    {
     "name": "stdout",
     "output_type": "stream",
     "text": [
      "horses: 89%\n",
      "horses1: 86%\n"
     ]
    }
   ],
   "source": [
    "db = list(test_scores.keys())\n",
    "print(f'{db[0]}: {round(test_scores[\"horses\"][1]*100)}%')\n",
    "print(f'{db[1]}: {round(test_scores[\"horses1\"][1]*100)}%')"
   ]
  },
  {
   "cell_type": "code",
   "execution_count": 16,
   "metadata": {},
   "outputs": [],
   "source": [
    "nn_model.save_weights('./checkpoints/my_checkpoint')"
   ]
  }
 ],
 "metadata": {
  "kernelspec": {
   "display_name": "Python 3.10.5 ('ai')",
   "language": "python",
   "name": "python3"
  },
  "language_info": {
   "codemirror_mode": {
    "name": "ipython",
    "version": 3
   },
   "file_extension": ".py",
   "mimetype": "text/x-python",
   "name": "python",
   "nbconvert_exporter": "python",
   "pygments_lexer": "ipython3",
   "version": "3.10.5"
  },
  "orig_nbformat": 4,
  "vscode": {
   "interpreter": {
    "hash": "dff652694570d79d7e10fc5f7d3bc899a3339699a23e21d1e9202b31254aa73b"
   }
  }
 },
 "nbformat": 4,
 "nbformat_minor": 2
}
