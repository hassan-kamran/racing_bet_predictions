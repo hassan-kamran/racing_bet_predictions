{
 "cells": [
  {
   "cell_type": "code",
   "execution_count": null,
   "metadata": {},
   "outputs": [],
   "source": [
    "import pandas as pd\n",
    "import numpy as np\n",
    "from sklearn.preprocessing import StandardScaler\n",
    "from sklearn.model_selection import train_test_split\n",
    "from sklearn.linear_model import LogisticRegression\n",
    "import matplotlib.pyplot as plt\n",
    "import seaborn as sns\n",
    "import tensorflow as tf"
   ]
  },
  {
   "cell_type": "code",
   "execution_count": null,
   "metadata": {},
   "outputs": [],
   "source": [
    "horses0 = pd.read_csv('./data/raw_data/horses.csv')\n",
    "horses1 = pd.read_csv('./data/raw_data/horses1.csv')\n",
    "horses2 = pd.read_csv('./data/raw_data/horses2.csv')"
   ]
  },
  {
   "cell_type": "code",
   "execution_count": null,
   "metadata": {},
   "outputs": [],
   "source": [
    "def horses_preprocess(dfs):\n",
    "    dfs_processed = []\n",
    "    for df in dfs:\n",
    "        df = df.copy()\n",
    "        df = df[['Winner','StartingOdds','RecentWinPercent','Class','laststart']]\n",
    "        median = df.median()\n",
    "        df.fillna(median, inplace=True)\n",
    "        dfs_processed.append(df)\n",
    "    return pd.concat(dfs_processed, axis=0)\n",
    "\n",
    "horses = horses_preprocess([horses1, horses2, horses0])\n",
    "horses.to_csv('./data/horse_data.csv', index=False)"
   ]
  },
  {
   "cell_type": "code",
   "execution_count": null,
   "metadata": {},
   "outputs": [],
   "source": [
    "corr = horses.corr().sort_values(by='Winner', ascending=False)\n",
    "winner_corr = corr[['Winner']]\n",
    "fig, ax = plt.subplots(figsize=(5,5), dpi=150)\n",
    "annot_kws = {\"ha\": 'center',\"va\": 'top', \"size\":5, \"color\": \"black\"}\n",
    "ax = sns.heatmap(winner_corr, annot=True, vmax=winner_corr.max(), vmin=winner_corr.min(), square=False, cbar=True, cmap='RdBu_r', linewidths=0.5, linecolor='black', annot_kws=annot_kws)\n",
    "ax.set_title('Winner Correlation')\n",
    "plt.show()"
   ]
  },
  {
   "cell_type": "code",
   "execution_count": null,
   "metadata": {},
   "outputs": [],
   "source": [
    "horses.info(verbose=True, show_counts=True)"
   ]
  },
  {
   "cell_type": "code",
   "execution_count": null,
   "metadata": {},
   "outputs": [],
   "source": [
    "x = horses.drop(['Winner'], axis=1)\n",
    "y = horses['Winner']\n",
    "x = pd.DataFrame(StandardScaler().fit_transform(x), columns=x.columns)\n",
    "x_train, x_val, y_train, y_val = train_test_split(x, y, test_size=0.2, random_state=53)\n",
    "x_train, x_test, y_train, y_test = train_test_split(x, y, test_size=0.1, random_state=42)"
   ]
  },
  {
   "cell_type": "code",
   "execution_count": null,
   "metadata": {},
   "outputs": [],
   "source": [
    "lr = LogisticRegression(solver='newton-cg').fit(x_train, y_train)\n",
    "print(f'Logistic Regression: {round(lr.score(x_test, y_test)*100)}%')"
   ]
  },
  {
   "cell_type": "code",
   "execution_count": null,
   "metadata": {},
   "outputs": [],
   "source": [
    "input = tf.keras.Input(shape=(x.shape[1],))\n",
    "x = tf.keras.layers.Dense(8, activation='relu')(input)\n",
    "x = tf.keras.layers.Dense(4, activation='relu')(x)\n",
    "output = tf.keras.layers.Dense(1, activation='sigmoid')(x)\n",
    "nn_model = tf.keras.Model(input, output)\n",
    "nn_model.compile(optimizer='adam', loss='binary_crossentropy', metrics=['accuracy'])\n",
    "nn_model.fit(x_train, y_train, epochs=5, validation_data=(x_val, y_val), verbose=1)"
   ]
  },
  {
   "cell_type": "code",
   "execution_count": null,
   "metadata": {},
   "outputs": [],
   "source": [
    "nn_model.evaluate(x_test, y_test)"
   ]
  },
  {
   "cell_type": "code",
   "execution_count": null,
   "metadata": {},
   "outputs": [],
   "source": [
    "nn_model.save_weights('./checkpoints/my_checkpoint')"
   ]
  },
  {
   "cell_type": "code",
   "execution_count": null,
   "metadata": {},
   "outputs": [],
   "source": []
  }
 ],
 "metadata": {
  "kernelspec": {
   "display_name": "Python 3.10.5 ('ai')",
   "language": "python",
   "name": "python3"
  },
  "language_info": {
   "codemirror_mode": {
    "name": "ipython",
    "version": 3
   },
   "file_extension": ".py",
   "mimetype": "text/x-python",
   "name": "python",
   "nbconvert_exporter": "python",
   "pygments_lexer": "ipython3",
   "version": "3.10.5"
  },
  "orig_nbformat": 4,
  "vscode": {
   "interpreter": {
    "hash": "dff652694570d79d7e10fc5f7d3bc899a3339699a23e21d1e9202b31254aa73b"
   }
  }
 },
 "nbformat": 4,
 "nbformat_minor": 2
}
